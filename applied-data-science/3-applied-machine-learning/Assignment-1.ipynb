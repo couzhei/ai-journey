{
 "cells": [
  {
   "cell_type": "markdown",
   "metadata": {},
   "source": [
    "---\n",
    "\n",
    "_You are currently looking at **version 1.3** of this notebook. To download notebooks and datafiles, as well as get help on Jupyter notebooks in the Coursera platform, visit the [Jupyter Notebook FAQ](https://www.coursera.org/learn/python-machine-learning/resources/bANLa) course resource._\n",
    "\n",
    "---"
   ]
  },
  {
   "cell_type": "markdown",
   "metadata": {},
   "source": [
    "# Assignment 1 - Introduction to Machine Learning"
   ]
  },
  {
   "cell_type": "markdown",
   "metadata": {},
   "source": [
    "For this assignment, you will be using the Breast Cancer Wisconsin (Diagnostic) Database to create a classifier that can help diagnose patients. First, read through the description of the dataset (below)."
   ]
  },
  {
   "cell_type": "code",
   "execution_count": 38,
   "metadata": {
    "collapsed": true
   },
   "outputs": [],
   "source": [
    "import numpy as np\n",
    "import pandas as pd\n",
    "from sklearn.datasets import load_breast_cancer\n",
    "\n",
    "cancer = load_breast_cancer()\n",
    "\n",
    "#print(cancer.DESCR) # Print the data set description"
   ]
  },
  {
   "cell_type": "markdown",
   "metadata": {},
   "source": [
    "The object returned by `load_breast_cancer()` is a scikit-learn Bunch object, which is similar to a dictionary."
   ]
  },
  {
   "cell_type": "code",
   "execution_count": 39,
   "metadata": {
    "collapsed": false
   },
   "outputs": [
    {
     "data": {
      "text/plain": [
       "dict_keys(['data', 'target', 'target_names', 'DESCR', 'feature_names'])"
      ]
     },
     "execution_count": 39,
     "metadata": {},
     "output_type": "execute_result"
    }
   ],
   "source": [
    "cancer.keys()"
   ]
  },
  {
   "cell_type": "markdown",
   "metadata": {},
   "source": [
    "### Question 0 (Example)\n",
    "\n",
    "How many features does the breast cancer dataset have?\n",
    "\n",
    "*This function should return an integer.*"
   ]
  },
  {
   "cell_type": "code",
   "execution_count": 40,
   "metadata": {
    "collapsed": false
   },
   "outputs": [
    {
     "data": {
      "text/plain": [
       "30"
      ]
     },
     "execution_count": 40,
     "metadata": {},
     "output_type": "execute_result"
    }
   ],
   "source": [
    "# You should write your whole answer within the function provided. The autograder will call\n",
    "# this function and compare the return value against the correct solution value\n",
    "def answer_zero():\n",
    "    # This function returns the number of features of the breast cancer dataset, which is an integer. \n",
    "    # The assignment question description will tell you the general format the autograder is expecting\n",
    "    return len(cancer['feature_names'])\n",
    "\n",
    "# You can examine what your function returns by calling it in the cell. If you have questions\n",
    "# about the assignment formats, check out the discussion forums for any FAQs\n",
    "answer_zero() "
   ]
  },
  {
   "cell_type": "markdown",
   "metadata": {},
   "source": [
    "### Question 1\n",
    "\n",
    "Scikit-learn works with lists, numpy arrays, scipy-sparse matrices, and pandas DataFrames, so converting the dataset to a DataFrame is not necessary for training this model. Using a DataFrame does however help make many things easier such as munging data, so let's practice creating a classifier with a pandas DataFrame. \n",
    "\n",
    "\n",
    "\n",
    "Convert the sklearn.dataset `cancer` to a DataFrame. \n",
    "\n",
    "*This function should return a `(569, 31)` DataFrame with * \n",
    "\n",
    "*columns = *\n",
    "\n",
    "    ['mean radius', 'mean texture', 'mean perimeter', 'mean area',\n",
    "    'mean smoothness', 'mean compactness', 'mean concavity',\n",
    "    'mean concave points', 'mean symmetry', 'mean fractal dimension',\n",
    "    'radius error', 'texture error', 'perimeter error', 'area error',\n",
    "    'smoothness error', 'compactness error', 'concavity error',\n",
    "    'concave points error', 'symmetry error', 'fractal dimension error',\n",
    "    'worst radius', 'worst texture', 'worst perimeter', 'worst area',\n",
    "    'worst smoothness', 'worst compactness', 'worst concavity',\n",
    "    'worst concave points', 'worst symmetry', 'worst fractal dimension',\n",
    "    'target']\n",
    "\n",
    "*and index = *\n",
    "\n",
    "    RangeIndex(start=0, stop=569, step=1)"
   ]
  },
  {
   "cell_type": "code",
   "execution_count": 41,
   "metadata": {
    "collapsed": false
   },
   "outputs": [],
   "source": [
    "def answer_one():\n",
    "    \n",
    "    df = pd.DataFrame(cancer.data, columns=cancer.feature_names)\n",
    "    df['target'] = cancer.target\n",
    "    \n",
    "#     print(df.shape)\n",
    "    return df\n"
   ]
  },
  {
   "cell_type": "code",
   "execution_count": 42,
   "metadata": {
    "collapsed": false
   },
   "outputs": [
    {
     "data": {
      "text/html": [
       "<div>\n",
       "<table border=\"1\" class=\"dataframe\">\n",
       "  <thead>\n",
       "    <tr style=\"text-align: right;\">\n",
       "      <th></th>\n",
       "      <th>mean radius</th>\n",
       "      <th>mean texture</th>\n",
       "      <th>mean perimeter</th>\n",
       "      <th>mean area</th>\n",
       "      <th>mean smoothness</th>\n",
       "      <th>mean compactness</th>\n",
       "      <th>mean concavity</th>\n",
       "      <th>mean concave points</th>\n",
       "      <th>mean symmetry</th>\n",
       "      <th>mean fractal dimension</th>\n",
       "      <th>...</th>\n",
       "      <th>worst texture</th>\n",
       "      <th>worst perimeter</th>\n",
       "      <th>worst area</th>\n",
       "      <th>worst smoothness</th>\n",
       "      <th>worst compactness</th>\n",
       "      <th>worst concavity</th>\n",
       "      <th>worst concave points</th>\n",
       "      <th>worst symmetry</th>\n",
       "      <th>worst fractal dimension</th>\n",
       "      <th>target</th>\n",
       "    </tr>\n",
       "  </thead>\n",
       "  <tbody>\n",
       "    <tr>\n",
       "      <th>0</th>\n",
       "      <td>17.99</td>\n",
       "      <td>10.38</td>\n",
       "      <td>122.80</td>\n",
       "      <td>1001.0</td>\n",
       "      <td>0.11840</td>\n",
       "      <td>0.27760</td>\n",
       "      <td>0.3001</td>\n",
       "      <td>0.14710</td>\n",
       "      <td>0.2419</td>\n",
       "      <td>0.07871</td>\n",
       "      <td>...</td>\n",
       "      <td>17.33</td>\n",
       "      <td>184.60</td>\n",
       "      <td>2019.0</td>\n",
       "      <td>0.1622</td>\n",
       "      <td>0.6656</td>\n",
       "      <td>0.7119</td>\n",
       "      <td>0.2654</td>\n",
       "      <td>0.4601</td>\n",
       "      <td>0.11890</td>\n",
       "      <td>0</td>\n",
       "    </tr>\n",
       "    <tr>\n",
       "      <th>1</th>\n",
       "      <td>20.57</td>\n",
       "      <td>17.77</td>\n",
       "      <td>132.90</td>\n",
       "      <td>1326.0</td>\n",
       "      <td>0.08474</td>\n",
       "      <td>0.07864</td>\n",
       "      <td>0.0869</td>\n",
       "      <td>0.07017</td>\n",
       "      <td>0.1812</td>\n",
       "      <td>0.05667</td>\n",
       "      <td>...</td>\n",
       "      <td>23.41</td>\n",
       "      <td>158.80</td>\n",
       "      <td>1956.0</td>\n",
       "      <td>0.1238</td>\n",
       "      <td>0.1866</td>\n",
       "      <td>0.2416</td>\n",
       "      <td>0.1860</td>\n",
       "      <td>0.2750</td>\n",
       "      <td>0.08902</td>\n",
       "      <td>0</td>\n",
       "    </tr>\n",
       "    <tr>\n",
       "      <th>2</th>\n",
       "      <td>19.69</td>\n",
       "      <td>21.25</td>\n",
       "      <td>130.00</td>\n",
       "      <td>1203.0</td>\n",
       "      <td>0.10960</td>\n",
       "      <td>0.15990</td>\n",
       "      <td>0.1974</td>\n",
       "      <td>0.12790</td>\n",
       "      <td>0.2069</td>\n",
       "      <td>0.05999</td>\n",
       "      <td>...</td>\n",
       "      <td>25.53</td>\n",
       "      <td>152.50</td>\n",
       "      <td>1709.0</td>\n",
       "      <td>0.1444</td>\n",
       "      <td>0.4245</td>\n",
       "      <td>0.4504</td>\n",
       "      <td>0.2430</td>\n",
       "      <td>0.3613</td>\n",
       "      <td>0.08758</td>\n",
       "      <td>0</td>\n",
       "    </tr>\n",
       "    <tr>\n",
       "      <th>3</th>\n",
       "      <td>11.42</td>\n",
       "      <td>20.38</td>\n",
       "      <td>77.58</td>\n",
       "      <td>386.1</td>\n",
       "      <td>0.14250</td>\n",
       "      <td>0.28390</td>\n",
       "      <td>0.2414</td>\n",
       "      <td>0.10520</td>\n",
       "      <td>0.2597</td>\n",
       "      <td>0.09744</td>\n",
       "      <td>...</td>\n",
       "      <td>26.50</td>\n",
       "      <td>98.87</td>\n",
       "      <td>567.7</td>\n",
       "      <td>0.2098</td>\n",
       "      <td>0.8663</td>\n",
       "      <td>0.6869</td>\n",
       "      <td>0.2575</td>\n",
       "      <td>0.6638</td>\n",
       "      <td>0.17300</td>\n",
       "      <td>0</td>\n",
       "    </tr>\n",
       "    <tr>\n",
       "      <th>4</th>\n",
       "      <td>20.29</td>\n",
       "      <td>14.34</td>\n",
       "      <td>135.10</td>\n",
       "      <td>1297.0</td>\n",
       "      <td>0.10030</td>\n",
       "      <td>0.13280</td>\n",
       "      <td>0.1980</td>\n",
       "      <td>0.10430</td>\n",
       "      <td>0.1809</td>\n",
       "      <td>0.05883</td>\n",
       "      <td>...</td>\n",
       "      <td>16.67</td>\n",
       "      <td>152.20</td>\n",
       "      <td>1575.0</td>\n",
       "      <td>0.1374</td>\n",
       "      <td>0.2050</td>\n",
       "      <td>0.4000</td>\n",
       "      <td>0.1625</td>\n",
       "      <td>0.2364</td>\n",
       "      <td>0.07678</td>\n",
       "      <td>0</td>\n",
       "    </tr>\n",
       "  </tbody>\n",
       "</table>\n",
       "<p>5 rows × 31 columns</p>\n",
       "</div>"
      ],
      "text/plain": [
       "   mean radius  mean texture  mean perimeter  mean area  mean smoothness  \\\n",
       "0        17.99         10.38          122.80     1001.0          0.11840   \n",
       "1        20.57         17.77          132.90     1326.0          0.08474   \n",
       "2        19.69         21.25          130.00     1203.0          0.10960   \n",
       "3        11.42         20.38           77.58      386.1          0.14250   \n",
       "4        20.29         14.34          135.10     1297.0          0.10030   \n",
       "\n",
       "   mean compactness  mean concavity  mean concave points  mean symmetry  \\\n",
       "0           0.27760          0.3001              0.14710         0.2419   \n",
       "1           0.07864          0.0869              0.07017         0.1812   \n",
       "2           0.15990          0.1974              0.12790         0.2069   \n",
       "3           0.28390          0.2414              0.10520         0.2597   \n",
       "4           0.13280          0.1980              0.10430         0.1809   \n",
       "\n",
       "   mean fractal dimension   ...    worst texture  worst perimeter  worst area  \\\n",
       "0                 0.07871   ...            17.33           184.60      2019.0   \n",
       "1                 0.05667   ...            23.41           158.80      1956.0   \n",
       "2                 0.05999   ...            25.53           152.50      1709.0   \n",
       "3                 0.09744   ...            26.50            98.87       567.7   \n",
       "4                 0.05883   ...            16.67           152.20      1575.0   \n",
       "\n",
       "   worst smoothness  worst compactness  worst concavity  worst concave points  \\\n",
       "0            0.1622             0.6656           0.7119                0.2654   \n",
       "1            0.1238             0.1866           0.2416                0.1860   \n",
       "2            0.1444             0.4245           0.4504                0.2430   \n",
       "3            0.2098             0.8663           0.6869                0.2575   \n",
       "4            0.1374             0.2050           0.4000                0.1625   \n",
       "\n",
       "   worst symmetry  worst fractal dimension  target  \n",
       "0          0.4601                  0.11890       0  \n",
       "1          0.2750                  0.08902       0  \n",
       "2          0.3613                  0.08758       0  \n",
       "3          0.6638                  0.17300       0  \n",
       "4          0.2364                  0.07678       0  \n",
       "\n",
       "[5 rows x 31 columns]"
      ]
     },
     "execution_count": 42,
     "metadata": {},
     "output_type": "execute_result"
    }
   ],
   "source": [
    "answer_one().head()"
   ]
  },
  {
   "cell_type": "markdown",
   "metadata": {},
   "source": [
    "### Question 2\n",
    "What is the class distribution? (i.e. how many instances of `malignant` (encoded 0) and how many `benign` (encoded 1)?)\n",
    "\n",
    "*This function should return a Series named `target` of length 2 with integer values and index =* `['malignant', 'benign']`"
   ]
  },
  {
   "cell_type": "code",
   "execution_count": 43,
   "metadata": {
    "collapsed": false
   },
   "outputs": [
    {
     "data": {
      "text/plain": [
       "benign       357\n",
       "malignant    212\n",
       "dtype: int64"
      ]
     },
     "execution_count": 43,
     "metadata": {},
     "output_type": "execute_result"
    }
   ],
   "source": [
    "def answer_two():\n",
    "    cancerdf = answer_one()\n",
    "    \n",
    "    malignant = cancerdf[cancerdf.target == 0]\n",
    "    benign = cancerdf[cancerdf.target == 1]\n",
    "    \n",
    "    return pd.Series({'malignant': len(malignant), 'benign': len(benign)})\n",
    "\n",
    "answer_two()"
   ]
  },
  {
   "cell_type": "markdown",
   "metadata": {},
   "source": [
    "### Question 3\n",
    "Split the DataFrame into `X` (the data) and `y` (the labels).\n",
    "\n",
    "*This function should return a tuple of length 2:* `(X, y)`*, where* \n",
    "* `X`*, a pandas DataFrame, has shape* `(569, 30)`\n",
    "* `y`*, a pandas Series, has shape* `(569,)`."
   ]
  },
  {
   "cell_type": "code",
   "execution_count": 44,
   "metadata": {
    "collapsed": true
   },
   "outputs": [],
   "source": [
    "def answer_three():\n",
    "    cancerdf = answer_one()\n",
    "    \n",
    "    X = cancerdf[cancer.feature_names]\n",
    "    y = cancerdf['target']\n",
    "    \n",
    "    return X, y"
   ]
  },
  {
   "cell_type": "code",
   "execution_count": 45,
   "metadata": {
    "collapsed": false
   },
   "outputs": [],
   "source": [
    "# answer_three()[0].shape[0]"
   ]
  },
  {
   "cell_type": "code",
   "execution_count": 46,
   "metadata": {
    "collapsed": false
   },
   "outputs": [
    {
     "data": {
      "text/plain": [
       "(     mean radius  mean texture  mean perimeter  mean area  mean smoothness  \\\n",
       " 0         17.990         10.38          122.80     1001.0          0.11840   \n",
       " 1         20.570         17.77          132.90     1326.0          0.08474   \n",
       " 2         19.690         21.25          130.00     1203.0          0.10960   \n",
       " 3         11.420         20.38           77.58      386.1          0.14250   \n",
       " 4         20.290         14.34          135.10     1297.0          0.10030   \n",
       " 5         12.450         15.70           82.57      477.1          0.12780   \n",
       " 6         18.250         19.98          119.60     1040.0          0.09463   \n",
       " 7         13.710         20.83           90.20      577.9          0.11890   \n",
       " 8         13.000         21.82           87.50      519.8          0.12730   \n",
       " 9         12.460         24.04           83.97      475.9          0.11860   \n",
       " 10        16.020         23.24          102.70      797.8          0.08206   \n",
       " 11        15.780         17.89          103.60      781.0          0.09710   \n",
       " 12        19.170         24.80          132.40     1123.0          0.09740   \n",
       " 13        15.850         23.95          103.70      782.7          0.08401   \n",
       " 14        13.730         22.61           93.60      578.3          0.11310   \n",
       " 15        14.540         27.54           96.73      658.8          0.11390   \n",
       " 16        14.680         20.13           94.74      684.5          0.09867   \n",
       " 17        16.130         20.68          108.10      798.8          0.11700   \n",
       " 18        19.810         22.15          130.00     1260.0          0.09831   \n",
       " 19        13.540         14.36           87.46      566.3          0.09779   \n",
       " 20        13.080         15.71           85.63      520.0          0.10750   \n",
       " 21         9.504         12.44           60.34      273.9          0.10240   \n",
       " 22        15.340         14.26          102.50      704.4          0.10730   \n",
       " 23        21.160         23.04          137.20     1404.0          0.09428   \n",
       " 24        16.650         21.38          110.00      904.6          0.11210   \n",
       " 25        17.140         16.40          116.00      912.7          0.11860   \n",
       " 26        14.580         21.53           97.41      644.8          0.10540   \n",
       " 27        18.610         20.25          122.10     1094.0          0.09440   \n",
       " 28        15.300         25.27          102.40      732.4          0.10820   \n",
       " 29        17.570         15.05          115.00      955.1          0.09847   \n",
       " ..           ...           ...             ...        ...              ...   \n",
       " 539        7.691         25.44           48.34      170.4          0.08668   \n",
       " 540       11.540         14.44           74.65      402.9          0.09984   \n",
       " 541       14.470         24.99           95.81      656.4          0.08837   \n",
       " 542       14.740         25.42           94.70      668.6          0.08275   \n",
       " 543       13.210         28.06           84.88      538.4          0.08671   \n",
       " 544       13.870         20.70           89.77      584.8          0.09578   \n",
       " 545       13.620         23.23           87.19      573.2          0.09246   \n",
       " 546       10.320         16.35           65.31      324.9          0.09434   \n",
       " 547       10.260         16.58           65.85      320.8          0.08877   \n",
       " 548        9.683         19.34           61.05      285.7          0.08491   \n",
       " 549       10.820         24.21           68.89      361.6          0.08192   \n",
       " 550       10.860         21.48           68.51      360.5          0.07431   \n",
       " 551       11.130         22.44           71.49      378.4          0.09566   \n",
       " 552       12.770         29.43           81.35      507.9          0.08276   \n",
       " 553        9.333         21.94           59.01      264.0          0.09240   \n",
       " 554       12.880         28.92           82.50      514.3          0.08123   \n",
       " 555       10.290         27.61           65.67      321.4          0.09030   \n",
       " 556       10.160         19.59           64.73      311.7          0.10030   \n",
       " 557        9.423         27.88           59.26      271.3          0.08123   \n",
       " 558       14.590         22.68           96.39      657.1          0.08473   \n",
       " 559       11.510         23.93           74.52      403.5          0.09261   \n",
       " 560       14.050         27.15           91.38      600.4          0.09929   \n",
       " 561       11.200         29.37           70.67      386.0          0.07449   \n",
       " 562       15.220         30.62          103.40      716.9          0.10480   \n",
       " 563       20.920         25.09          143.00     1347.0          0.10990   \n",
       " 564       21.560         22.39          142.00     1479.0          0.11100   \n",
       " 565       20.130         28.25          131.20     1261.0          0.09780   \n",
       " 566       16.600         28.08          108.30      858.1          0.08455   \n",
       " 567       20.600         29.33          140.10     1265.0          0.11780   \n",
       " 568        7.760         24.54           47.92      181.0          0.05263   \n",
       " \n",
       "      mean compactness  mean concavity  mean concave points  mean symmetry  \\\n",
       " 0             0.27760        0.300100             0.147100         0.2419   \n",
       " 1             0.07864        0.086900             0.070170         0.1812   \n",
       " 2             0.15990        0.197400             0.127900         0.2069   \n",
       " 3             0.28390        0.241400             0.105200         0.2597   \n",
       " 4             0.13280        0.198000             0.104300         0.1809   \n",
       " 5             0.17000        0.157800             0.080890         0.2087   \n",
       " 6             0.10900        0.112700             0.074000         0.1794   \n",
       " 7             0.16450        0.093660             0.059850         0.2196   \n",
       " 8             0.19320        0.185900             0.093530         0.2350   \n",
       " 9             0.23960        0.227300             0.085430         0.2030   \n",
       " 10            0.06669        0.032990             0.033230         0.1528   \n",
       " 11            0.12920        0.099540             0.066060         0.1842   \n",
       " 12            0.24580        0.206500             0.111800         0.2397   \n",
       " 13            0.10020        0.099380             0.053640         0.1847   \n",
       " 14            0.22930        0.212800             0.080250         0.2069   \n",
       " 15            0.15950        0.163900             0.073640         0.2303   \n",
       " 16            0.07200        0.073950             0.052590         0.1586   \n",
       " 17            0.20220        0.172200             0.102800         0.2164   \n",
       " 18            0.10270        0.147900             0.094980         0.1582   \n",
       " 19            0.08129        0.066640             0.047810         0.1885   \n",
       " 20            0.12700        0.045680             0.031100         0.1967   \n",
       " 21            0.06492        0.029560             0.020760         0.1815   \n",
       " 22            0.21350        0.207700             0.097560         0.2521   \n",
       " 23            0.10220        0.109700             0.086320         0.1769   \n",
       " 24            0.14570        0.152500             0.091700         0.1995   \n",
       " 25            0.22760        0.222900             0.140100         0.3040   \n",
       " 26            0.18680        0.142500             0.087830         0.2252   \n",
       " 27            0.10660        0.149000             0.077310         0.1697   \n",
       " 28            0.16970        0.168300             0.087510         0.1926   \n",
       " 29            0.11570        0.098750             0.079530         0.1739   \n",
       " ..                ...             ...                  ...            ...   \n",
       " 539           0.11990        0.092520             0.013640         0.2037   \n",
       " 540           0.11200        0.067370             0.025940         0.1818   \n",
       " 541           0.12300        0.100900             0.038900         0.1872   \n",
       " 542           0.07214        0.041050             0.030270         0.1840   \n",
       " 543           0.06877        0.029870             0.032750         0.1628   \n",
       " 544           0.10180        0.036880             0.023690         0.1620   \n",
       " 545           0.06747        0.029740             0.024430         0.1664   \n",
       " 546           0.04994        0.010120             0.005495         0.1885   \n",
       " 547           0.08066        0.043580             0.024380         0.1669   \n",
       " 548           0.05030        0.023370             0.009615         0.1580   \n",
       " 549           0.06602        0.015480             0.008160         0.1976   \n",
       " 550           0.04227        0.000000             0.000000         0.1661   \n",
       " 551           0.08194        0.048240             0.022570         0.2030   \n",
       " 552           0.04234        0.019970             0.014990         0.1539   \n",
       " 553           0.05605        0.039960             0.012820         0.1692   \n",
       " 554           0.05824        0.061950             0.023430         0.1566   \n",
       " 555           0.07658        0.059990             0.027380         0.1593   \n",
       " 556           0.07504        0.005025             0.011160         0.1791   \n",
       " 557           0.04971        0.000000             0.000000         0.1742   \n",
       " 558           0.13300        0.102900             0.037360         0.1454   \n",
       " 559           0.10210        0.111200             0.041050         0.1388   \n",
       " 560           0.11260        0.044620             0.043040         0.1537   \n",
       " 561           0.03558        0.000000             0.000000         0.1060   \n",
       " 562           0.20870        0.255000             0.094290         0.2128   \n",
       " 563           0.22360        0.317400             0.147400         0.2149   \n",
       " 564           0.11590        0.243900             0.138900         0.1726   \n",
       " 565           0.10340        0.144000             0.097910         0.1752   \n",
       " 566           0.10230        0.092510             0.053020         0.1590   \n",
       " 567           0.27700        0.351400             0.152000         0.2397   \n",
       " 568           0.04362        0.000000             0.000000         0.1587   \n",
       " \n",
       "      mean fractal dimension           ...             worst radius  \\\n",
       " 0                   0.07871           ...                   25.380   \n",
       " 1                   0.05667           ...                   24.990   \n",
       " 2                   0.05999           ...                   23.570   \n",
       " 3                   0.09744           ...                   14.910   \n",
       " 4                   0.05883           ...                   22.540   \n",
       " 5                   0.07613           ...                   15.470   \n",
       " 6                   0.05742           ...                   22.880   \n",
       " 7                   0.07451           ...                   17.060   \n",
       " 8                   0.07389           ...                   15.490   \n",
       " 9                   0.08243           ...                   15.090   \n",
       " 10                  0.05697           ...                   19.190   \n",
       " 11                  0.06082           ...                   20.420   \n",
       " 12                  0.07800           ...                   20.960   \n",
       " 13                  0.05338           ...                   16.840   \n",
       " 14                  0.07682           ...                   15.030   \n",
       " 15                  0.07077           ...                   17.460   \n",
       " 16                  0.05922           ...                   19.070   \n",
       " 17                  0.07356           ...                   20.960   \n",
       " 18                  0.05395           ...                   27.320   \n",
       " 19                  0.05766           ...                   15.110   \n",
       " 20                  0.06811           ...                   14.500   \n",
       " 21                  0.06905           ...                   10.230   \n",
       " 22                  0.07032           ...                   18.070   \n",
       " 23                  0.05278           ...                   29.170   \n",
       " 24                  0.06330           ...                   26.460   \n",
       " 25                  0.07413           ...                   22.250   \n",
       " 26                  0.06924           ...                   17.620   \n",
       " 27                  0.05699           ...                   21.310   \n",
       " 28                  0.06540           ...                   20.270   \n",
       " 29                  0.06149           ...                   20.010   \n",
       " ..                      ...           ...                      ...   \n",
       " 539                 0.07751           ...                    8.678   \n",
       " 540                 0.06782           ...                   12.260   \n",
       " 541                 0.06341           ...                   16.220   \n",
       " 542                 0.05680           ...                   16.510   \n",
       " 543                 0.05781           ...                   14.370   \n",
       " 544                 0.06688           ...                   15.050   \n",
       " 545                 0.05801           ...                   15.350   \n",
       " 546                 0.06201           ...                   11.250   \n",
       " 547                 0.06714           ...                   10.830   \n",
       " 548                 0.06235           ...                   10.930   \n",
       " 549                 0.06328           ...                   13.030   \n",
       " 550                 0.05948           ...                   11.660   \n",
       " 551                 0.06552           ...                   12.020   \n",
       " 552                 0.05637           ...                   13.870   \n",
       " 553                 0.06576           ...                    9.845   \n",
       " 554                 0.05708           ...                   13.890   \n",
       " 555                 0.06127           ...                   10.840   \n",
       " 556                 0.06331           ...                   10.650   \n",
       " 557                 0.06059           ...                   10.490   \n",
       " 558                 0.06147           ...                   15.480   \n",
       " 559                 0.06570           ...                   12.480   \n",
       " 560                 0.06171           ...                   15.300   \n",
       " 561                 0.05502           ...                   11.920   \n",
       " 562                 0.07152           ...                   17.520   \n",
       " 563                 0.06879           ...                   24.290   \n",
       " 564                 0.05623           ...                   25.450   \n",
       " 565                 0.05533           ...                   23.690   \n",
       " 566                 0.05648           ...                   18.980   \n",
       " 567                 0.07016           ...                   25.740   \n",
       " 568                 0.05884           ...                    9.456   \n",
       " \n",
       "      worst texture  worst perimeter  worst area  worst smoothness  \\\n",
       " 0            17.33           184.60      2019.0           0.16220   \n",
       " 1            23.41           158.80      1956.0           0.12380   \n",
       " 2            25.53           152.50      1709.0           0.14440   \n",
       " 3            26.50            98.87       567.7           0.20980   \n",
       " 4            16.67           152.20      1575.0           0.13740   \n",
       " 5            23.75           103.40       741.6           0.17910   \n",
       " 6            27.66           153.20      1606.0           0.14420   \n",
       " 7            28.14           110.60       897.0           0.16540   \n",
       " 8            30.73           106.20       739.3           0.17030   \n",
       " 9            40.68            97.65       711.4           0.18530   \n",
       " 10           33.88           123.80      1150.0           0.11810   \n",
       " 11           27.28           136.50      1299.0           0.13960   \n",
       " 12           29.94           151.70      1332.0           0.10370   \n",
       " 13           27.66           112.00       876.5           0.11310   \n",
       " 14           32.01           108.80       697.7           0.16510   \n",
       " 15           37.13           124.10       943.2           0.16780   \n",
       " 16           30.88           123.40      1138.0           0.14640   \n",
       " 17           31.48           136.80      1315.0           0.17890   \n",
       " 18           30.88           186.80      2398.0           0.15120   \n",
       " 19           19.26            99.70       711.2           0.14400   \n",
       " 20           20.49            96.09       630.5           0.13120   \n",
       " 21           15.66            65.13       314.9           0.13240   \n",
       " 22           19.08           125.10       980.9           0.13900   \n",
       " 23           35.59           188.00      2615.0           0.14010   \n",
       " 24           31.56           177.00      2215.0           0.18050   \n",
       " 25           21.40           152.40      1461.0           0.15450   \n",
       " 26           33.21           122.40       896.9           0.15250   \n",
       " 27           27.26           139.90      1403.0           0.13380   \n",
       " 28           36.71           149.30      1269.0           0.16410   \n",
       " 29           19.52           134.90      1227.0           0.12550   \n",
       " ..             ...              ...         ...               ...   \n",
       " 539          31.89            54.49       223.6           0.15960   \n",
       " 540          19.68            78.78       457.8           0.13450   \n",
       " 541          31.73           113.50       808.9           0.13400   \n",
       " 542          32.29           107.40       826.4           0.10600   \n",
       " 543          37.17            92.48       629.6           0.10720   \n",
       " 544          24.75            99.17       688.6           0.12640   \n",
       " 545          29.09            97.58       729.8           0.12160   \n",
       " 546          21.77            71.12       384.9           0.12850   \n",
       " 547          22.04            71.08       357.4           0.14610   \n",
       " 548          25.59            69.10       364.2           0.11990   \n",
       " 549          31.45            83.90       505.6           0.12040   \n",
       " 550          24.77            74.08       412.3           0.10010   \n",
       " 551          28.26            77.80       436.6           0.10870   \n",
       " 552          36.00            88.10       594.7           0.12340   \n",
       " 553          25.05            62.86       295.8           0.11030   \n",
       " 554          35.74            88.84       595.7           0.12270   \n",
       " 555          34.91            69.57       357.6           0.13840   \n",
       " 556          22.88            67.88       347.3           0.12650   \n",
       " 557          34.24            66.50       330.6           0.10730   \n",
       " 558          27.27           105.90       733.5           0.10260   \n",
       " 559          37.16            82.28       474.2           0.12980   \n",
       " 560          33.17           100.20       706.7           0.12410   \n",
       " 561          38.30            75.19       439.6           0.09267   \n",
       " 562          42.79           128.70       915.0           0.14170   \n",
       " 563          29.41           179.10      1819.0           0.14070   \n",
       " 564          26.40           166.10      2027.0           0.14100   \n",
       " 565          38.25           155.00      1731.0           0.11660   \n",
       " 566          34.12           126.70      1124.0           0.11390   \n",
       " 567          39.42           184.60      1821.0           0.16500   \n",
       " 568          30.37            59.16       268.6           0.08996   \n",
       " \n",
       "      worst compactness  worst concavity  worst concave points  worst symmetry  \\\n",
       " 0              0.66560          0.71190               0.26540          0.4601   \n",
       " 1              0.18660          0.24160               0.18600          0.2750   \n",
       " 2              0.42450          0.45040               0.24300          0.3613   \n",
       " 3              0.86630          0.68690               0.25750          0.6638   \n",
       " 4              0.20500          0.40000               0.16250          0.2364   \n",
       " 5              0.52490          0.53550               0.17410          0.3985   \n",
       " 6              0.25760          0.37840               0.19320          0.3063   \n",
       " 7              0.36820          0.26780               0.15560          0.3196   \n",
       " 8              0.54010          0.53900               0.20600          0.4378   \n",
       " 9              1.05800          1.10500               0.22100          0.4366   \n",
       " 10             0.15510          0.14590               0.09975          0.2948   \n",
       " 11             0.56090          0.39650               0.18100          0.3792   \n",
       " 12             0.39030          0.36390               0.17670          0.3176   \n",
       " 13             0.19240          0.23220               0.11190          0.2809   \n",
       " 14             0.77250          0.69430               0.22080          0.3596   \n",
       " 15             0.65770          0.70260               0.17120          0.4218   \n",
       " 16             0.18710          0.29140               0.16090          0.3029   \n",
       " 17             0.42330          0.47840               0.20730          0.3706   \n",
       " 18             0.31500          0.53720               0.23880          0.2768   \n",
       " 19             0.17730          0.23900               0.12880          0.2977   \n",
       " 20             0.27760          0.18900               0.07283          0.3184   \n",
       " 21             0.11480          0.08867               0.06227          0.2450   \n",
       " 22             0.59540          0.63050               0.23930          0.4667   \n",
       " 23             0.26000          0.31550               0.20090          0.2822   \n",
       " 24             0.35780          0.46950               0.20950          0.3613   \n",
       " 25             0.39490          0.38530               0.25500          0.4066   \n",
       " 26             0.66430          0.55390               0.27010          0.4264   \n",
       " 27             0.21170          0.34460               0.14900          0.2341   \n",
       " 28             0.61100          0.63350               0.20240          0.4027   \n",
       " 29             0.28120          0.24890               0.14560          0.2756   \n",
       " ..                 ...              ...                   ...             ...   \n",
       " 539            0.30640          0.33930               0.05000          0.2790   \n",
       " 540            0.21180          0.17970               0.06918          0.2329   \n",
       " 541            0.42020          0.40400               0.12050          0.3187   \n",
       " 542            0.13760          0.16110               0.10950          0.2722   \n",
       " 543            0.13810          0.10620               0.07958          0.2473   \n",
       " 544            0.20370          0.13770               0.06845          0.2249   \n",
       " 545            0.15170          0.10490               0.07174          0.2642   \n",
       " 546            0.08842          0.04384               0.02381          0.2681   \n",
       " 547            0.22460          0.17830               0.08333          0.2691   \n",
       " 548            0.09546          0.09350               0.03846          0.2552   \n",
       " 549            0.16330          0.06194               0.03264          0.3059   \n",
       " 550            0.07348          0.00000               0.00000          0.2458   \n",
       " 551            0.17820          0.15640               0.06413          0.3169   \n",
       " 552            0.10640          0.08653               0.06498          0.2407   \n",
       " 553            0.08298          0.07993               0.02564          0.2435   \n",
       " 554            0.16200          0.24390               0.06493          0.2372   \n",
       " 555            0.17100          0.20000               0.09127          0.2226   \n",
       " 556            0.12000          0.01005               0.02232          0.2262   \n",
       " 557            0.07158          0.00000               0.00000          0.2475   \n",
       " 558            0.31710          0.36620               0.11050          0.2258   \n",
       " 559            0.25170          0.36300               0.09653          0.2112   \n",
       " 560            0.22640          0.13260               0.10480          0.2250   \n",
       " 561            0.05494          0.00000               0.00000          0.1566   \n",
       " 562            0.79170          1.17000               0.23560          0.4089   \n",
       " 563            0.41860          0.65990               0.25420          0.2929   \n",
       " 564            0.21130          0.41070               0.22160          0.2060   \n",
       " 565            0.19220          0.32150               0.16280          0.2572   \n",
       " 566            0.30940          0.34030               0.14180          0.2218   \n",
       " 567            0.86810          0.93870               0.26500          0.4087   \n",
       " 568            0.06444          0.00000               0.00000          0.2871   \n",
       " \n",
       "      worst fractal dimension  \n",
       " 0                    0.11890  \n",
       " 1                    0.08902  \n",
       " 2                    0.08758  \n",
       " 3                    0.17300  \n",
       " 4                    0.07678  \n",
       " 5                    0.12440  \n",
       " 6                    0.08368  \n",
       " 7                    0.11510  \n",
       " 8                    0.10720  \n",
       " 9                    0.20750  \n",
       " 10                   0.08452  \n",
       " 11                   0.10480  \n",
       " 12                   0.10230  \n",
       " 13                   0.06287  \n",
       " 14                   0.14310  \n",
       " 15                   0.13410  \n",
       " 16                   0.08216  \n",
       " 17                   0.11420  \n",
       " 18                   0.07615  \n",
       " 19                   0.07259  \n",
       " 20                   0.08183  \n",
       " 21                   0.07773  \n",
       " 22                   0.09946  \n",
       " 23                   0.07526  \n",
       " 24                   0.09564  \n",
       " 25                   0.10590  \n",
       " 26                   0.12750  \n",
       " 27                   0.07421  \n",
       " 28                   0.09876  \n",
       " 29                   0.07919  \n",
       " ..                       ...  \n",
       " 539                  0.10660  \n",
       " 540                  0.08134  \n",
       " 541                  0.10230  \n",
       " 542                  0.06956  \n",
       " 543                  0.06443  \n",
       " 544                  0.08492  \n",
       " 545                  0.06953  \n",
       " 546                  0.07399  \n",
       " 547                  0.09479  \n",
       " 548                  0.07920  \n",
       " 549                  0.07626  \n",
       " 550                  0.06592  \n",
       " 551                  0.08032  \n",
       " 552                  0.06484  \n",
       " 553                  0.07393  \n",
       " 554                  0.07242  \n",
       " 555                  0.08283  \n",
       " 556                  0.06742  \n",
       " 557                  0.06969  \n",
       " 558                  0.08004  \n",
       " 559                  0.08732  \n",
       " 560                  0.08321  \n",
       " 561                  0.05905  \n",
       " 562                  0.14090  \n",
       " 563                  0.09873  \n",
       " 564                  0.07115  \n",
       " 565                  0.06637  \n",
       " 566                  0.07820  \n",
       " 567                  0.12400  \n",
       " 568                  0.07039  \n",
       " \n",
       " [569 rows x 30 columns], 0      0\n",
       " 1      0\n",
       " 2      0\n",
       " 3      0\n",
       " 4      0\n",
       " 5      0\n",
       " 6      0\n",
       " 7      0\n",
       " 8      0\n",
       " 9      0\n",
       " 10     0\n",
       " 11     0\n",
       " 12     0\n",
       " 13     0\n",
       " 14     0\n",
       " 15     0\n",
       " 16     0\n",
       " 17     0\n",
       " 18     0\n",
       " 19     1\n",
       " 20     1\n",
       " 21     1\n",
       " 22     0\n",
       " 23     0\n",
       " 24     0\n",
       " 25     0\n",
       " 26     0\n",
       " 27     0\n",
       " 28     0\n",
       " 29     0\n",
       "       ..\n",
       " 539    1\n",
       " 540    1\n",
       " 541    1\n",
       " 542    1\n",
       " 543    1\n",
       " 544    1\n",
       " 545    1\n",
       " 546    1\n",
       " 547    1\n",
       " 548    1\n",
       " 549    1\n",
       " 550    1\n",
       " 551    1\n",
       " 552    1\n",
       " 553    1\n",
       " 554    1\n",
       " 555    1\n",
       " 556    1\n",
       " 557    1\n",
       " 558    1\n",
       " 559    1\n",
       " 560    1\n",
       " 561    1\n",
       " 562    0\n",
       " 563    0\n",
       " 564    0\n",
       " 565    0\n",
       " 566    0\n",
       " 567    0\n",
       " 568    1\n",
       " Name: target, dtype: int64)"
      ]
     },
     "execution_count": 46,
     "metadata": {},
     "output_type": "execute_result"
    }
   ],
   "source": [
    "answer_three()"
   ]
  },
  {
   "cell_type": "markdown",
   "metadata": {},
   "source": [
    "### Question 4\n",
    "Using `train_test_split`, split `X` and `y` into training and test sets `(X_train, X_test, y_train, and y_test)`.\n",
    "\n",
    "**Set the random number generator state to 0 using `random_state=0` to make sure your results match the autograder!**\n",
    "\n",
    "*This function should return a tuple of length 4:* `(X_train, X_test, y_train, y_test)`*, where* \n",
    "* `X_train` *has shape* `(426, 30)`\n",
    "* `X_test` *has shape* `(143, 30)`\n",
    "* `y_train` *has shape* `(426,)`\n",
    "* `y_test` *has shape* `(143,)`"
   ]
  },
  {
   "cell_type": "code",
   "execution_count": 47,
   "metadata": {
    "collapsed": true
   },
   "outputs": [],
   "source": [
    "from sklearn.model_selection import train_test_split\n",
    "\n",
    "def answer_four():\n",
    "    X, y = answer_three()\n",
    "    \n",
    "    X_train, X_test, y_train, y_test = train_test_split(X, y, random_state = 0)\n",
    "    \n",
    "    return X_train, X_test, y_train, y_test"
   ]
  },
  {
   "cell_type": "code",
   "execution_count": 48,
   "metadata": {
    "collapsed": false
   },
   "outputs": [],
   "source": [
    "# X_train, X_test, y_train, y_test=answer_four()\n",
    "# print(X_train.shape)\n",
    "# print(y_test.shape)\n",
    "# print(y_train.shape)"
   ]
  },
  {
   "cell_type": "markdown",
   "metadata": {},
   "source": [
    "### Question 5\n",
    "Using KNeighborsClassifier, fit a k-nearest neighbors (knn) classifier with `X_train`, `y_train` and using one nearest neighbor (`n_neighbors = 1`).\n",
    "\n",
    "*This function should return a * `sklearn.neighbors.classification.KNeighborsClassifier`."
   ]
  },
  {
   "cell_type": "code",
   "execution_count": 49,
   "metadata": {
    "collapsed": false
   },
   "outputs": [],
   "source": [
    "from sklearn.neighbors import KNeighborsClassifier\n",
    "\n",
    "def answer_five():\n",
    "    X_train, X_test, y_train, y_test = answer_four()\n",
    "    knn = KNeighborsClassifier(n_neighbors = 1)\n",
    "    knn.fit(X_train, y_train)\n",
    "    \n",
    "    return knn"
   ]
  },
  {
   "cell_type": "code",
   "execution_count": 50,
   "metadata": {
    "collapsed": false
   },
   "outputs": [
    {
     "data": {
      "text/plain": [
       "KNeighborsClassifier(algorithm='auto', leaf_size=30, metric='minkowski',\n",
       "           metric_params=None, n_jobs=1, n_neighbors=1, p=2,\n",
       "           weights='uniform')"
      ]
     },
     "execution_count": 50,
     "metadata": {},
     "output_type": "execute_result"
    }
   ],
   "source": [
    "answer_five()"
   ]
  },
  {
   "cell_type": "markdown",
   "metadata": {},
   "source": [
    "### Question 6\n",
    "Using your knn classifier, predict the class label using the mean value for each feature.\n",
    "\n",
    "Hint: You can use `cancerdf.mean()[:-1].values.reshape(1, -1)` which gets the mean value for each feature, ignores the target column, and reshapes the data from 1 dimension to 2 (necessary for the precict method of KNeighborsClassifier).\n",
    "\n",
    "*This function should return a numpy array either `array([ 0.])` or `array([ 1.])`*"
   ]
  },
  {
   "cell_type": "code",
   "execution_count": 51,
   "metadata": {
    "collapsed": false
   },
   "outputs": [],
   "source": [
    "def answer_six():\n",
    "    cancerdf = answer_one()\n",
    "    means = cancerdf.mean()[:-1].values.reshape(1, -1)\n",
    "    \n",
    "    knn = answer_five()\n",
    "    \n",
    "    predict_ = knn.predict(means)\n",
    "    \n",
    "    return predict_"
   ]
  },
  {
   "cell_type": "code",
   "execution_count": 52,
   "metadata": {
    "collapsed": false
   },
   "outputs": [
    {
     "data": {
      "text/plain": [
       "array([1])"
      ]
     },
     "execution_count": 52,
     "metadata": {},
     "output_type": "execute_result"
    }
   ],
   "source": [
    "answer_six()"
   ]
  },
  {
   "cell_type": "markdown",
   "metadata": {},
   "source": [
    "### Question 7\n",
    "Using your knn classifier, predict the class labels for the test set `X_test`.\n",
    "\n",
    "*This function should return a numpy array with shape `(143,)` and values either `0.0` or `1.0`.*"
   ]
  },
  {
   "cell_type": "code",
   "execution_count": 53,
   "metadata": {
    "collapsed": true
   },
   "outputs": [],
   "source": [
    "def answer_seven():\n",
    "    X_train, X_test, y_train, y_test = answer_four()\n",
    "    knn = answer_five()\n",
    "    \n",
    "    predict_ = knn.predict(X_test)\n",
    "    \n",
    "    return predict_"
   ]
  },
  {
   "cell_type": "code",
   "execution_count": 34,
   "metadata": {
    "collapsed": false
   },
   "outputs": [
    {
     "name": "stdout",
     "output_type": "stream",
     "text": [
      "(143,)\n"
     ]
    },
    {
     "data": {
      "text/plain": [
       "{0, 1}"
      ]
     },
     "execution_count": 34,
     "metadata": {},
     "output_type": "execute_result"
    }
   ],
   "source": [
    "# predict_X_test=answer_seven()\n",
    "# print(predict_X_test.shape)\n",
    "# set(predict_X_test)"
   ]
  },
  {
   "cell_type": "code",
   "execution_count": 54,
   "metadata": {
    "collapsed": false
   },
   "outputs": [
    {
     "data": {
      "text/plain": [
       "array([1, 1, 1, 0, 1, 1, 1, 1, 1, 1, 0, 1, 1, 1, 0, 0, 1, 0, 0, 0, 0, 1, 1,\n",
       "       1, 0, 1, 1, 1, 1, 0, 1, 0, 1, 0, 1, 0, 1, 0, 1, 0, 0, 1, 0, 1, 0, 0,\n",
       "       1, 1, 1, 0, 0, 1, 0, 1, 1, 1, 1, 1, 1, 0, 0, 0, 1, 1, 0, 1, 0, 0, 0,\n",
       "       1, 1, 0, 1, 1, 0, 1, 1, 1, 1, 1, 0, 0, 0, 1, 0, 1, 1, 1, 0, 0, 1, 0,\n",
       "       1, 0, 1, 1, 0, 1, 1, 1, 1, 1, 1, 1, 0, 1, 0, 1, 0, 1, 1, 0, 0, 1, 1,\n",
       "       1, 0, 1, 1, 1, 1, 1, 1, 1, 0, 1, 1, 1, 1, 1, 0, 1, 1, 1, 1, 1, 1, 0,\n",
       "       0, 1, 1, 1, 0])"
      ]
     },
     "execution_count": 54,
     "metadata": {},
     "output_type": "execute_result"
    }
   ],
   "source": [
    "answer_seven()"
   ]
  },
  {
   "cell_type": "markdown",
   "metadata": {},
   "source": [
    "### Question 8\n",
    "Find the score (mean accuracy) of your knn classifier using `X_test` and `y_test`.\n",
    "\n",
    "*This function should return a float between 0 and 1*"
   ]
  },
  {
   "cell_type": "code",
   "execution_count": 55,
   "metadata": {
    "collapsed": true
   },
   "outputs": [],
   "source": [
    "def answer_eight():\n",
    "    X_train, X_test, y_train, y_test = answer_four()\n",
    "    knn = answer_five()\n",
    "    \n",
    "    score = knn.score(X_test, y_test)\n",
    "    \n",
    "    return score"
   ]
  },
  {
   "cell_type": "code",
   "execution_count": 56,
   "metadata": {
    "collapsed": false
   },
   "outputs": [
    {
     "data": {
      "text/plain": [
       "0.91608391608391604"
      ]
     },
     "execution_count": 56,
     "metadata": {},
     "output_type": "execute_result"
    }
   ],
   "source": [
    "answer_eight()"
   ]
  },
  {
   "cell_type": "markdown",
   "metadata": {},
   "source": [
    "### Optional plot\n",
    "\n",
    "Try using the plotting function below to visualize the differet predicition scores between training and test sets, as well as malignant and benign cells."
   ]
  },
  {
   "cell_type": "code",
   "execution_count": 58,
   "metadata": {
    "collapsed": true
   },
   "outputs": [],
   "source": [
    "# def accuracy_plot():\n",
    "#     import matplotlib.pyplot as plt\n",
    "\n",
    "#     %matplotlib notebook\n",
    "\n",
    "#     X_train, X_test, y_train, y_test = answer_four()\n",
    "\n",
    "#     # Find the training and testing accuracies by target value (i.e. malignant, benign)\n",
    "#     mal_train_X = X_train[y_train==0]\n",
    "#     mal_train_y = y_train[y_train==0]\n",
    "#     ben_train_X = X_train[y_train==1]\n",
    "#     ben_train_y = y_train[y_train==1]\n",
    "\n",
    "#     mal_test_X = X_test[y_test==0]\n",
    "#     mal_test_y = y_test[y_test==0]\n",
    "#     ben_test_X = X_test[y_test==1]\n",
    "#     ben_test_y = y_test[y_test==1]\n",
    "\n",
    "#     knn = answer_five()\n",
    "\n",
    "#     scores = [knn.score(mal_train_X, mal_train_y), knn.score(ben_train_X, ben_train_y), \n",
    "#               knn.score(mal_test_X, mal_test_y), knn.score(ben_test_X, ben_test_y)]\n",
    "\n",
    "\n",
    "#     plt.figure()\n",
    "\n",
    "#     # Plot the scores as a bar chart\n",
    "#     bars = plt.bar(np.arange(4), scores, color=['#4c72b0','#4c72b0','#55a868','#55a868'])\n",
    "\n",
    "#     # directly label the score onto the bars\n",
    "#     for bar in bars:\n",
    "#         height = bar.get_height()\n",
    "#         plt.gca().text(bar.get_x() + bar.get_width()/2, height*.90, '{0:.{1}f}'.format(height, 2), \n",
    "#                      ha='center', color='w', fontsize=11)\n",
    "\n",
    "#     # remove all the ticks (both axes), and tick labels on the Y axis\n",
    "#     plt.tick_params(top='off', bottom='off', left='off', right='off', labelleft='off', labelbottom='on')\n",
    "\n",
    "#     # remove the frame of the chart\n",
    "#     for spine in plt.gca().spines.values():\n",
    "#         spine.set_visible(False)\n",
    "\n",
    "#     plt.xticks([0,1,2,3], ['Malignant\\nTraining', 'Benign\\nTraining', 'Malignant\\nTest', 'Benign\\nTest'], alpha=0.8);\n",
    "#     plt.title('Training and Test Accuracies for Malignant and Benign Cells', alpha=0.8)"
   ]
  },
  {
   "cell_type": "markdown",
   "metadata": {},
   "source": [
    "Uncomment the plotting function to see the visualization.\n",
    "\n",
    "**Comment out** the plotting function when submitting your notebook for grading. "
   ]
  },
  {
   "cell_type": "code",
   "execution_count": 57,
   "metadata": {
    "collapsed": false
   },
   "outputs": [],
   "source": [
    "# accuracy_plot() "
   ]
  },
  {
   "cell_type": "code",
   "execution_count": null,
   "metadata": {
    "collapsed": true
   },
   "outputs": [],
   "source": []
  }
 ],
 "metadata": {
  "coursera": {
   "course_slug": "python-machine-learning",
   "graded_item_id": "f9SY5",
   "launcher_item_id": "oxndk",
   "part_id": "mh1Vo"
  },
  "kernelspec": {
   "display_name": "Python 3",
   "language": "python",
   "name": "python3"
  },
  "language_info": {
   "codemirror_mode": {
    "name": "ipython",
    "version": 3
   },
   "file_extension": ".py",
   "mimetype": "text/x-python",
   "name": "python",
   "nbconvert_exporter": "python",
   "pygments_lexer": "ipython3",
   "version": "3.6.2"
  }
 },
 "nbformat": 4,
 "nbformat_minor": 0
}
