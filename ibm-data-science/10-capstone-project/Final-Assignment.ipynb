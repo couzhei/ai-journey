{
 "cells": [
  {
   "cell_type": "markdown",
   "id": "ea974c13",
   "metadata": {},
   "source": [
    "### Final Assignment\n",
    "<br>\n",
    "\n",
    "# Opening a Chinese Restaurant in Melbourne\n",
    "\n",
    "#### By Ashkan Ranjbar Beyranvand, June 26, 2021\n",
    "<br><br><br>\n",
    "\n",
    "## Introduction and Data\n",
    "\n",
    "Melbourne (/ˈmɛlbərn/) is the capital and most-populous city of the Australian state of Victoria, and the second-most populous city in Australia and Oceania. Its name refers to a metropolitan area of 9,993 km2 (3,858 sq mi), comprising an urban agglomeration of 31 local municipalities known as Greater Melbourne, although the name is also commonly used specifically for the local municipality of City of Melbourne based around its central business area. Home to Indigenous Australians for over 40,000 years, this city has served as a long-lived host which has a highly diversified economy with particular strengths in finance, manufacturing, research, IT, education, logistics, transportation and tourism. Speaking of tourism, Melbourne is the second most visited city in Australia and the seventy-third most visited city in the world. The multi-cultural nature of the city brings with it numerous cuisines from all over the globe. That being said, the city offers a great opportunity for business stakeholders and entrepreneurs to start a business, namely, a Chinese restaurant that will attract many locals and visitors.\n",
    "\n",
    "## Problem\n",
    "\n",
    "The task is to identify neighborhoods that have the potential of being good locations for starting a new Chinese restaurant.\n",
    "\n",
    "## Data Collection\n",
    "\n",
    "In this project, I "
   ]
  },
  {
   "cell_type": "code",
   "execution_count": null,
   "id": "dceaebac",
   "metadata": {},
   "outputs": [],
   "source": []
  }
 ],
 "metadata": {
  "kernelspec": {
   "display_name": "Python 3",
   "language": "python",
   "name": "python3"
  },
  "language_info": {
   "codemirror_mode": {
    "name": "ipython",
    "version": 3
   },
   "file_extension": ".py",
   "mimetype": "text/x-python",
   "name": "python",
   "nbconvert_exporter": "python",
   "pygments_lexer": "ipython3",
   "version": "3.8.10"
  }
 },
 "nbformat": 4,
 "nbformat_minor": 5
}
