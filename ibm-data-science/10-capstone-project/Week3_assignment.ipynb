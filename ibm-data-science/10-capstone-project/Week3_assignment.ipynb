{
 "cells": [
  {
   "cell_type": "markdown",
   "id": "5c283220",
   "metadata": {},
   "source": [
    "# Segmenting and Clustering Neighborhoods in Toronto"
   ]
  },
  {
   "cell_type": "code",
   "execution_count": 37,
   "id": "f3287b3d",
   "metadata": {},
   "outputs": [
    {
     "name": "stdout",
     "output_type": "stream",
     "text": [
      "Libraries imported.\n"
     ]
    }
   ],
   "source": [
    "import numpy as np # library to handle data in a vectorized manner\n",
    "\n",
    "import pandas as pd # library for data analsysis\n",
    "pd.set_option('display.max_columns', None)\n",
    "pd.set_option('display.max_rows', None)\n",
    "\n",
    "import json # library to handle JSON files\n",
    "\n",
    "#!conda install -c conda-forge geopy --yes # uncomment this line if you haven't completed the Foursquare API lab\n",
    "from geopy.geocoders import Nominatim # convert an address into latitude and longitude values\n",
    "\n",
    "import requests # library to handle requests\n",
    "from pandas.io.json import json_normalize # tranform JSON file into a pandas dataframe\n",
    "\n",
    "# Matplotlib and associated plotting modules\n",
    "import matplotlib.cm as cm\n",
    "import matplotlib.colors as colors\n",
    "\n",
    "# import k-means from clustering stage\n",
    "# !conda install -c conda-forge scikit-learn\n",
    "from sklearn.cluster import KMeans\n",
    "\n",
    "#!conda install -c conda-forge folium=0.5.0 --yes # uncomment this line if you haven't completed the Foursquare API lab\n",
    "import folium # map rendering library\n",
    "\n",
    "print('Libraries imported.')"
   ]
  },
  {
   "cell_type": "code",
   "execution_count": 38,
   "id": "f9f26275",
   "metadata": {},
   "outputs": [
    {
     "data": {
      "text/plain": [
       "<Response [200]>"
      ]
     },
     "execution_count": 38,
     "metadata": {},
     "output_type": "execute_result"
    }
   ],
   "source": [
    "url = \"https://en.wikipedia.org/wiki/List_of_postal_codes_of_Canada:_M\"\n",
    "can_postals = requests.get(url)\n",
    "can_postals"
   ]
  },
  {
   "cell_type": "code",
   "execution_count": 39,
   "id": "abc4dc6a",
   "metadata": {},
   "outputs": [],
   "source": [
    "from bs4 import BeautifulSoup"
   ]
  },
  {
   "cell_type": "code",
   "execution_count": 40,
   "id": "de17501c",
   "metadata": {},
   "outputs": [],
   "source": [
    "soup = BeautifulSoup(can_postals.text, 'html.parser')"
   ]
  },
  {
   "cell_type": "code",
   "execution_count": 55,
   "id": "26043dad",
   "metadata": {},
   "outputs": [
    {
     "data": {
      "text/html": [
       "<div>\n",
       "<style scoped>\n",
       "    .dataframe tbody tr th:only-of-type {\n",
       "        vertical-align: middle;\n",
       "    }\n",
       "\n",
       "    .dataframe tbody tr th {\n",
       "        vertical-align: top;\n",
       "    }\n",
       "\n",
       "    .dataframe thead th {\n",
       "        text-align: right;\n",
       "    }\n",
       "</style>\n",
       "<table border=\"1\" class=\"dataframe\">\n",
       "  <thead>\n",
       "    <tr style=\"text-align: right;\">\n",
       "      <th></th>\n",
       "      <th>PostalCode</th>\n",
       "      <th>Borough</th>\n",
       "      <th>Neighborhood</th>\n",
       "    </tr>\n",
       "  </thead>\n",
       "  <tbody>\n",
       "    <tr>\n",
       "      <th>0</th>\n",
       "      <td></td>\n",
       "      <td>\\nM2ANot assigned\\n\\n</td>\n",
       "      <td>\\n</td>\n",
       "    </tr>\n",
       "    <tr>\n",
       "      <th>1</th>\n",
       "      <td></td>\n",
       "      <td>\\nM2BNot assigned\\n\\n</td>\n",
       "      <td>\\n</td>\n",
       "    </tr>\n",
       "    <tr>\n",
       "      <th>2</th>\n",
       "      <td></td>\n",
       "      <td>\\nM2CNot assigned\\n\\n</td>\n",
       "      <td>\\n</td>\n",
       "    </tr>\n",
       "    <tr>\n",
       "      <th>3</th>\n",
       "      <td></td>\n",
       "      <td>\\nM2ENot assigned\\n\\n</td>\n",
       "      <td>\\n</td>\n",
       "    </tr>\n",
       "    <tr>\n",
       "      <th>4</th>\n",
       "      <td></td>\n",
       "      <td>\\nM2GNot assigned\\n\\n</td>\n",
       "      <td>\\n</td>\n",
       "    </tr>\n",
       "    <tr>\n",
       "      <th>5</th>\n",
       "      <td></td>\n",
       "      <td>\\nM2HNorth York(Hillcrest Village)\\n\\n</td>\n",
       "      <td>\\n</td>\n",
       "    </tr>\n",
       "    <tr>\n",
       "      <th>6</th>\n",
       "      <td></td>\n",
       "      <td>\\nM2JNorth York(Fairview / Henry Farm / Oriole...</td>\n",
       "      <td>\\n</td>\n",
       "    </tr>\n",
       "    <tr>\n",
       "      <th>7</th>\n",
       "      <td></td>\n",
       "      <td>\\nM2KNorth York(Bayview Village)\\n\\n</td>\n",
       "      <td>\\n</td>\n",
       "    </tr>\n",
       "    <tr>\n",
       "      <th>8</th>\n",
       "      <td></td>\n",
       "      <td>\\nM2LNorth York(York Mills / Silver Hills)\\n\\n</td>\n",
       "      <td>\\n</td>\n",
       "    </tr>\n",
       "    <tr>\n",
       "      <th>9</th>\n",
       "      <td></td>\n",
       "      <td>\\nM2MNorth York(Willowdale / Newtonbrook)\\n\\n</td>\n",
       "      <td>\\n</td>\n",
       "    </tr>\n",
       "  </tbody>\n",
       "</table>\n",
       "</div>"
      ],
      "text/plain": [
       "  PostalCode                                            Borough Neighborhood\n",
       "0                                         \\nM2ANot assigned\\n\\n           \\n\n",
       "1                                         \\nM2BNot assigned\\n\\n           \\n\n",
       "2                                         \\nM2CNot assigned\\n\\n           \\n\n",
       "3                                         \\nM2ENot assigned\\n\\n           \\n\n",
       "4                                         \\nM2GNot assigned\\n\\n           \\n\n",
       "5                        \\nM2HNorth York(Hillcrest Village)\\n\\n           \\n\n",
       "6             \\nM2JNorth York(Fairview / Henry Farm / Oriole...           \\n\n",
       "7                          \\nM2KNorth York(Bayview Village)\\n\\n           \\n\n",
       "8                \\nM2LNorth York(York Mills / Silver Hills)\\n\\n           \\n\n",
       "9                 \\nM2MNorth York(Willowdale / Newtonbrook)\\n\\n           \\n"
      ]
     },
     "execution_count": 55,
     "metadata": {},
     "output_type": "execute_result"
    }
   ],
   "source": [
    "can_data = pd.DataFrame(columns=[\"PostalCode\", \"Borough\", \"Neighborhood\"])\n",
    "\n",
    "for row in soup.find(\"tbody\").find_all(\"tr\"):\n",
    "#     col = row.find_all(\"td\")\n",
    "#     PostalCode = col[0].text.rstrip(\"\\n\")\n",
    "#     Borough = col[1].text.rstrip(\"\\n\")\n",
    "#     Neighborhood = col[2].text.rstrip(\"\\n\")\n",
    "#     col = row.find(\"td\")\n",
    "#     PostalCode = col.next_sibling\n",
    "#     Borough = PostalCode.next_sibling\n",
    "#     Neighborhood = Borough.next_sibling\n",
    "    col = row.find(\"td\")\n",
    "    PostalCode = col.next_sibling.replace(\"\\n\", \"\")\n",
    "    Borough = col.next_sibling.next_sibling.text\n",
    "    Neighborhood = col.next_sibling.next_sibling.next_sibling\n",
    "    \n",
    "    can_data = can_data.append({\"PostalCode\":PostalCode, \"Borough\":Borough, \"Neighborhood\":Neighborhood}, ignore_index=True)\n",
    "can_data.head(10)"
   ]
  },
  {
   "cell_type": "code",
   "execution_count": null,
   "id": "f9739ce2",
   "metadata": {},
   "outputs": [],
   "source": []
  }
 ],
 "metadata": {
  "kernelspec": {
   "display_name": "Python 3",
   "language": "python",
   "name": "python3"
  },
  "language_info": {
   "codemirror_mode": {
    "name": "ipython",
    "version": 3
   },
   "file_extension": ".py",
   "mimetype": "text/x-python",
   "name": "python",
   "nbconvert_exporter": "python",
   "pygments_lexer": "ipython3",
   "version": "3.8.10"
  }
 },
 "nbformat": 4,
 "nbformat_minor": 5
}
